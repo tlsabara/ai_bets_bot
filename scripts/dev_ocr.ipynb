{
 "cells": [
  {
   "cell_type": "code",
   "execution_count": 9,
   "metadata": {},
   "outputs": [],
   "source": [
    "# Imports\n",
    "\n",
    "\n",
    "from PIL import Image\n",
    "import numpy as np\n",
    "import pytesseract\n",
    "import cv2\n",
    "from project_globals import  WindowsConfigs\n"
   ]
  },
  {
   "cell_type": "code",
   "execution_count": 12,
   "metadata": {},
   "outputs": [
    {
     "name": "stdout",
     "output_type": "stream",
     "text": [
      "1.50x\n",
      "\n"
     ]
    }
   ],
   "source": [
    "# Variáveis\n",
    "pytesseract.pytesseract.tesseract_cmd = WindowsConfigs.ROOT_TESSERACT / 'tesseract.exe'\n",
    "img = str(WindowsConfigs.ROOT_DIR / 'img_dst'/'old'/'crash_save_2022_12_23_23_11_33.png')\n",
    "print(get_string(img))\n",
    "\n",
    "\n",
    "\n"
   ]
  },
  {
   "cell_type": "code",
   "execution_count": 11,
   "metadata": {},
   "outputs": [],
   "source": [
    "def get_string(img_path):\n",
    "    # Read image with opencv\n",
    "    img = cv2.imread(img_path)\n",
    "    # Convert to gray\n",
    "    img = cv2.cvtColor(img, cv2.COLOR_BGR2GRAY)\n",
    "    # Apply dilation and erosion to remove some noise\n",
    "    kernel = np.ones((1, 1), np.uint8)\n",
    "    img = cv2.dilate(img, kernel, iterations=1)\n",
    "    img = cv2.erode(img, kernel, iterations=1)\n",
    "    # Write image after removed noise\n",
    "    cv2.imwrite( \"removed_noise.png\", img)\n",
    "    #  Apply threshold to get image with only black and white\n",
    "    #img = cv2.adaptiveThreshold(img, 255, cv2.ADAPTIVE_THRESH_GAUSSIAN_C, cv2.THRESH_BINARY, 31, 2)\n",
    "    # Write the image after apply opencv to do some ...\n",
    "    cv2.imwrite( \"thres.png\", img)\n",
    "    # Recognize text with tesseract for python\n",
    "\n",
    "    result = pytesseract.image_to_string(Image.open( \"thres.png\"))\n",
    "\n",
    "    return result\n"
   ]
  },
  {
   "cell_type": "code",
   "execution_count": 4,
   "metadata": {},
   "outputs": [
    {
     "data": {
      "text/plain": "WindowsPath('C:/Program Files/Tesseract-OCR')"
     },
     "execution_count": 4,
     "metadata": {},
     "output_type": "execute_result"
    }
   ],
   "source": [
    "WindowsConfigs.ROOT_TESSERACT"
   ]
  },
  {
   "cell_type": "code",
   "execution_count": 4,
   "metadata": {},
   "outputs": [],
   "source": []
  }
 ],
 "metadata": {
  "kernelspec": {
   "display_name": "Python 3 (ipykernel)",
   "language": "python",
   "name": "python3"
  },
  "language_info": {
   "codemirror_mode": {
    "name": "ipython",
    "version": 3
   },
   "file_extension": ".py",
   "mimetype": "text/x-python",
   "name": "python",
   "nbconvert_exporter": "python",
   "pygments_lexer": "ipython3",
   "version": "3.10.8"
  }
 },
 "nbformat": 4,
 "nbformat_minor": 1
}
