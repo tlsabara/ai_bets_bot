{
 "cells": [
  {
   "cell_type": "markdown",
   "id": "795be1db",
   "metadata": {},
   "source": [
    "# Bot para coletar historico de apostas\n",
    "\n",
    "Planejo utilizar aqui, pyautogui com o tesseract\n",
    "O Tesseract não funcionou, então aqui estou apenas coletando os prnts dos valores de crash e apostadores."
   ]
  },
  {
   "cell_type": "code",
   "execution_count": 1,
   "id": "7cdbc629",
   "metadata": {},
   "outputs": [],
   "source": [
    "# Imports\n",
    "\n",
    "from pyautogui import locateCenterOnScreen, sleep, screenshot, click, press\n",
    "from datetime import datetime\n",
    "from pathlib import Path\n",
    "import os"
   ]
  },
  {
   "cell_type": "code",
   "execution_count": 2,
   "id": "375571ad",
   "metadata": {},
   "outputs": [],
   "source": [
    "### Variáveis\n",
    "ROOT_DIR = Path(os.path.abspath(os.curdir)).parent\n",
    "# Garante o funcionamento do projeto em qualquer os.\n",
    "\n",
    "src_images = 'img_src'\n",
    "dst_images = 'img_dst'\n",
    "full_screen = True\n",
    "\n",
    "crash_prefix_save = 'crash_save_{}.png'\n",
    "crash_save_name = ROOT_DIR / dst_images / crash_prefix_save\n",
    "\n",
    "players_prefix_save = 'players_save_{}.png'\n",
    "players_save_name =  ROOT_DIR / dst_images / players_prefix_save\n",
    "\n",
    "bet_closed_file = 'apostas_fechadas_full.png'\n",
    "bet_closed = ROOT_DIR / src_images / bet_closed_file\n",
    "\n",
    "crashed_file = 'crashed_full.png'\n",
    "crashed = ROOT_DIR / src_images / crashed_file\n",
    "\n",
    "test_file = 'test.png'\n",
    "test = ROOT_DIR / src_images / test_file\n",
    "\n",
    "crash_screenshot_positions = [30,1060, 70, 21] # tentando na barra\n",
    "players_screenshot_positions = [1488,980, 55, 21] # tentando na barra\n"
   ]
  },
  {
   "cell_type": "code",
   "execution_count": 3,
   "id": "e4478fbc",
   "metadata": {},
   "outputs": [],
   "source": [
    "# Funções\n",
    "\n",
    "def printd(*args, check: bool = False) -> None:\n",
    "    if check:\n",
    "        print(*args)\n"
   ]
  },
  {
   "cell_type": "code",
   "execution_count": 6,
   "id": "0a0679e9",
   "metadata": {},
   "outputs": [
    {
     "name": "stdout",
     "output_type": "stream",
     "text": [
      "Iniciando verificação de apostas...\n",
      "\n",
      "Iniciando\n"
     ]
    },
    {
     "ename": "KeyboardInterrupt",
     "evalue": "",
     "output_type": "error",
     "traceback": [
      "\u001B[1;31m---------------------------------------------------------------------------\u001B[0m",
      "\u001B[1;31mKeyboardInterrupt\u001B[0m                         Traceback (most recent call last)",
      "Cell \u001B[1;32mIn[6], line 47\u001B[0m\n\u001B[0;32m     44\u001B[0m         flag \u001B[38;5;241m=\u001B[39m \u001B[38;5;28;01mTrue\u001B[39;00m\n\u001B[0;32m     46\u001B[0m cont\u001B[38;5;241m+\u001B[39m\u001B[38;5;241m=\u001B[39m\u001B[38;5;241m1\u001B[39m\n\u001B[1;32m---> 47\u001B[0m \u001B[43msleep\u001B[49m\u001B[43m(\u001B[49m\u001B[38;5;241;43m0.5\u001B[39;49m\u001B[43m)\u001B[49m\n",
      "File \u001B[1;32m~\\anaconda3\\envs\\bot_spacerman\\lib\\site-packages\\pyautogui\\__init__.py:1794\u001B[0m, in \u001B[0;36msleep\u001B[1;34m(seconds)\u001B[0m\n\u001B[0;32m   1793\u001B[0m \u001B[38;5;28;01mdef\u001B[39;00m \u001B[38;5;21msleep\u001B[39m(seconds):\n\u001B[1;32m-> 1794\u001B[0m     \u001B[43mtime\u001B[49m\u001B[38;5;241;43m.\u001B[39;49m\u001B[43msleep\u001B[49m\u001B[43m(\u001B[49m\u001B[43mseconds\u001B[49m\u001B[43m)\u001B[49m\n",
      "\u001B[1;31mKeyboardInterrupt\u001B[0m: "
     ]
    }
   ],
   "source": [
    "# Monitoramento de status\n",
    "verify_crashed = None\n",
    "debug = False\n",
    "print('Iniciando verificação de apostas...\\n')\n",
    "flag = True\n",
    "timer = 200000\n",
    "cont = 1\n",
    "move = True\n",
    "\n",
    "print('Iniciando')\n",
    "while flag:\n",
    "    if cont % 50 == 0:\n",
    "        click(30,810)\n",
    "        press('f5')\n",
    "        print('Em exec amigo.....',f'{cont}/{timer}')\n",
    "        cont+=1\n",
    "    printd('Verificando fechamento das apostas...', check=debug)\n",
    "    verify_closed = locateCenterOnScreen(str(bet_closed), confidence=0.9)\n",
    "    if verify_closed is not None:\n",
    "        id_img = f\"{datetime.now().strftime('%Y_%m_%d_%H_%M_%S')}\"\n",
    "        printd('Apostas fechadas!', 'Iniciando verificação do crash', check=debug)\n",
    "        sleep(1.5)\n",
    "        players_image = screenshot(region=(players_screenshot_positions))\n",
    "        players_image.save(players_save_name.format(id_img))\n",
    "        while not verify_crashed:\n",
    "            printd('Verificando crash...', check=debug)\n",
    "            verify_crashed = locateCenterOnScreen(str(crashed), confidence=0.9)\n",
    "            sleep(0.5)\n",
    "        printd('Crashou...', check=debug)\n",
    "        sleep(0.5)\n",
    "        crash_image = screenshot(region=(crash_screenshot_positions))\n",
    "        sleep(1)\n",
    "        crash_image.save(crash_save_name.format(id_img))\n",
    "        if move:\n",
    "            move = !move\n",
    "            click(40,800)\n",
    "        else:\n",
    "            move = !move\n",
    "            click(30,810)\n",
    "        verify_crashed = None\n",
    "        verify_closed = None\n",
    "        printd('Verificando fechamento das apostas...', check=debug)\n",
    "        if timer <= cont:\n",
    "            flag = True\n",
    "\n",
    "    cont+=1\n",
    "    sleep(0.5)\n"
   ]
  },
  {
   "cell_type": "code",
   "execution_count": null,
   "outputs": [],
   "source": [
    "test"
   ],
   "metadata": {
    "collapsed": false
   }
  },
  {
   "cell_type": "code",
   "execution_count": null,
   "outputs": [],
   "source": [],
   "metadata": {
    "collapsed": false
   }
  }
 ],
 "metadata": {
  "kernelspec": {
   "display_name": "Python 3 (ipykernel)",
   "language": "python",
   "name": "python3"
  },
  "language_info": {
   "codemirror_mode": {
    "name": "ipython",
    "version": 3
   },
   "file_extension": ".py",
   "mimetype": "text/x-python",
   "name": "python",
   "nbconvert_exporter": "python",
   "pygments_lexer": "ipython3",
   "version": "3.9.13"
  }
 },
 "nbformat": 4,
 "nbformat_minor": 5
}
