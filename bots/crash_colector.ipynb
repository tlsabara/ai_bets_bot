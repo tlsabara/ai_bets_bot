{
 "cells": [
  {
   "cell_type": "markdown",
   "id": "795be1db",
   "metadata": {},
   "source": [
    "# Bot para coletar historico de apostas\n",
    "\n",
    "Planejo utilizar aqui, pyautogui com o tesseract\n",
    "O Tesseract não funcionou, então aqui estou apenas coletando os prnts dos valores de crash e apostadores."
   ]
  },
  {
   "cell_type": "code",
   "execution_count": 1,
   "id": "7cdbc629",
   "metadata": {},
   "outputs": [],
   "source": [
    "# Imports\n",
    "\n",
    "from pyautogui import locateCenterOnScreen, sleep, screenshot, click, press\n",
    "from datetime import datetime\n"
   ]
  },
  {
   "cell_type": "code",
   "execution_count": 2,
   "id": "375571ad",
   "metadata": {},
   "outputs": [],
   "source": [
    "### Variáveis\n",
    "src_images = 'img_src/{}'\n",
    "dst_images = 'img_dst/{}'\n",
    "full_screen = True\n",
    "\n",
    "crash_prefix_save = 'crash_save_{}.png'\n",
    "crash_save_name = dst_images.format(crash_prefix_save)\n",
    "players_prefix_save = 'players_save_{}.png'\n",
    "players_save_name = dst_images.format(players_prefix_save)\n",
    "\n",
    "if full_screen:\n",
    "    bet_closed = 'apostas_fechadas_full.png'\n",
    "    crashed = 'crashed_full.png'\n",
    "    test = 'test.png'\n",
    "    crash_screenshot_positions = [30,1060, 70, 21] # tentando na barra\n",
    "    players_screenshot_positions = [1488,980, 55, 21] # tentando na barra\n",
    "else:\n",
    "    bet_closed = 'apostas_fechadas_2.png'\n",
    "    crashed = 'crashed_1.png'\n",
    "    test = 'test.png'\n",
    "    crash_screenshot_positions = [830,410, 260, 60]\n"
   ]
  },
  {
   "cell_type": "code",
   "execution_count": 3,
   "id": "e4478fbc",
   "metadata": {},
   "outputs": [],
   "source": [
    "# Funções\n",
    "\n",
    "def printd(*args, check: bool = False) -> None:\n",
    "    if check:\n",
    "        print(*args)\n"
   ]
  },
  {
   "cell_type": "code",
   "execution_count": null,
   "id": "0a0679e9",
   "metadata": {},
   "outputs": [
    {
     "name": "stdout",
     "output_type": "stream",
     "text": [
      "Iniciando verificação de apostas...\n",
      "\n",
      "Iniciando\n",
      "Em exec amigo..... 100/200000\n",
      "Em exec amigo..... 200/200000\n",
      "Em exec amigo..... 300/200000\n",
      "Em exec amigo..... 400/200000\n",
      "Em exec amigo..... 500/200000\n"
     ]
    }
   ],
   "source": [
    "# Monitoramento de status\n",
    "verify_crashed = None\n",
    "debug = False\n",
    "print('Iniciando verificação de apostas...\\n')\n",
    "flag = True\n",
    "timer = 200000\n",
    "cont = 1\n",
    "move = True\n",
    "\n",
    "print('Iniciando')\n",
    "while flag:\n",
    "    if cont % 50 == 0:\n",
    "        click(30,810)\n",
    "        press('f5')\n",
    "        print('Em exec amigo.....',f'{cont}/{timer}')\n",
    "        cont+=1\n",
    "    printd('Verificando fechamento das apostas...', check=debug)\n",
    "    verify_closed = locateCenterOnScreen(src_images.format(bet_closed), confidence=0.9)\n",
    "    if verify_closed is not None:\n",
    "        id_img = f\"{datetime.now().strftime('%Y_%m_%d_%H_%M_%S')}\"\n",
    "        printd('Apostas fechadas!', 'Iniciando verificação do crash', check=debug)\n",
    "        sleep(1.5)\n",
    "        players_image = screenshot(region=(players_screenshot_positions))\n",
    "        players_image.save(players_save_name.format(id_img))\n",
    "        while not verify_crashed:\n",
    "            printd('Verificando crash...', check=debug)\n",
    "            verify_crashed = locateCenterOnScreen(src_images.format(crashed), confidence=0.9)\n",
    "            sleep(0.5)\n",
    "        printd('Crashou...', check=debug)\n",
    "        sleep(0.5)\n",
    "        crash_image = screenshot(region=(crash_screenshot_positions))\n",
    "        sleep(1)\n",
    "        crash_image.save(crash_save_name.format(id_img))\n",
    "        if move:\n",
    "            move = !move\n",
    "            click(40,800)\n",
    "        else:\n",
    "            move = !move\n",
    "            click(30,810)\n",
    "        verify_crashed = None\n",
    "        verify_closed = None\n",
    "        printd('Verificando fechamento das apostas...', check=debug)\n",
    "        if timer <= cont:\n",
    "            flag = True\n",
    "\n",
    "    cont+=1\n",
    "    sleep(0.5)\n"
   ]
  },
  {
   "cell_type": "code",
   "execution_count": null,
   "id": "9ac6f834",
   "metadata": {},
   "outputs": [],
   "source": []
  }
 ],
 "metadata": {
  "kernelspec": {
   "display_name": "Python 3 (ipykernel)",
   "language": "python",
   "name": "python3"
  },
  "language_info": {
   "codemirror_mode": {
    "name": "ipython",
    "version": 3
   },
   "file_extension": ".py",
   "mimetype": "text/x-python",
   "name": "python",
   "nbconvert_exporter": "python",
   "pygments_lexer": "ipython3",
   "version": "3.9.13"
  }
 },
 "nbformat": 4,
 "nbformat_minor": 5
}
